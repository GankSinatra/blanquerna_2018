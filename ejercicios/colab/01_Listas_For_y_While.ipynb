{
 "cells": [
  {
   "cell_type": "markdown",
   "metadata": {
    "id": "ialMOAmv3Wa2",
    "colab_type": "text"
   },
   "source": [
    "#Python: Listas, for y while"
   ]
  },
  {
   "cell_type": "markdown",
   "metadata": {
    "id": "_yiuho_E3g_x",
    "colab_type": "text"
   },
   "source": [
    "##Listas\n",
    "\n",
    "Las listas (*lists*) almacenan secuencias de datos. En este sentido, se parecen a las cadenas, porque se pueden acceder mediante índices, pero los elementos no tienen por qué ser caracteres, pueden ser cualquier tipo de datos: Hay listas de enteros, de cadenas, de flotantes, etc...\n",
    "\n"
   ]
  },
  {
   "cell_type": "code",
   "execution_count": 0,
   "metadata": {
    "id": "iKHmA2Qe7bfl",
    "colab_type": "code",
    "colab": {}
   },
   "outputs": [],
   "source": [
    "# Declaración de una lista: valores separados por ',' y rodeados de corchetes\n",
    "\n",
    "lista = [1,2,3,7,8]\n",
    "\n",
    "# Accedemos mediante el índice de cada elemento\n",
    "\n",
    "# Primer elemento\n",
    "\n",
    "print(lista[0])\n",
    "\n",
    "# Último elemento\n",
    "\n",
    "print(lista[-1])\n",
    "\n",
    "# Tercer elemento\n",
    "\n",
    "print(lista[2])\n",
    "\n",
    "# Longitud de una lista. str() convierte un entero en una cadena\n",
    "# para poderlas sumar\n",
    "\n",
    "print(\"Longitud: \" + str(len(lista)))\n",
    "\n",
    "# Error, estamos intentando acceder a un elemento de la lista que no existe\n",
    "# (el sexto)\n",
    "\n",
    "print(lista[5])\n",
    "\n"
   ]
  },
  {
   "cell_type": "code",
   "execution_count": 0,
   "metadata": {
    "id": "aIp0Y1Kj8Yz3",
    "colab_type": "code",
    "colab": {}
   },
   "outputs": [],
   "source": [
    "# El operador 'in' (en este caso, en una lista de cadenas)\n",
    "\n",
    "listaNombres = ['Pedro', 'Juan', 'Jose']\n",
    "\n",
    "# El operador 'in' comprueba si 'algo' es un elemento de una lista\n",
    "\n",
    "if 'Pedro' in listaNombres:\n",
    "    print(\"Pedro esta en la lista\")\n",
    "\n",
    "if 'Julio' in listaNombres:\n",
    "    print(\"Julio esta en la lista\")\n",
    "else:\n",
    "    print(\"Julio NO esta en la lista\")"
   ]
  },
  {
   "cell_type": "code",
   "execution_count": 0,
   "metadata": {
    "id": "ESbGkjRN8rIK",
    "colab_type": "code",
    "colab": {}
   },
   "outputs": [],
   "source": [
    "# Copia de listas. Ojo a la última linea\n",
    "\n",
    "colors = ['rojo', 'azul', 'verde']\n",
    "\n",
    "copia_de_colors = colors\n",
    "\n",
    "# Imprimo el segundo elemento de la copia\n",
    "\n",
    "print(copia_de_colors[1])\n",
    "\n",
    "# Cambio el segundo elemento de la copia\n",
    "\n",
    "copia_de_colors[1] = 'amarillo'\n",
    "\n",
    "print(\"En la copia: \" + copia_de_colors[1])\n",
    "\n",
    "# IMPORTANTE: Al cambiar un elemento en la copia también lo hacemos en el original,\n",
    "# por que al copiar una lista no estamos copiando los valores uno a uno, si no\n",
    "# diciéndole a Python: Esta lista almacena los mismos valores que esta, y en la misma\n",
    "# porción de memoria, y si cambiamos una, cambiamos la otra\n",
    "\n",
    "print(\"En el original: \" + colors[1])\n",
    "\n"
   ]
  },
  {
   "cell_type": "markdown",
   "metadata": {
    "id": "sYwVhwJ494Ny",
    "colab_type": "text"
   },
   "source": [
    "### Rodajas (Slices) de listas\n",
    "\n",
    "Podemos aplicar la misma filosofía de rodajas que usábamos en las cadenas, pero esta vez en la lista.\n",
    "\n",
    "P.ej: lista[1:3] devuelve los elementos de la lista entre el segundo y el cuarto elemento"
   ]
  },
  {
   "cell_type": "code",
   "execution_count": 0,
   "metadata": {
    "id": "CZXWzPDQ-Eqc",
    "colab_type": "code",
    "colab": {}
   },
   "outputs": [],
   "source": [
    "lista = [9,8,7,6,3,2,1]\n",
    "\n",
    "print(lista[1:3])\n"
   ]
  },
  {
   "cell_type": "code",
   "execution_count": 0,
   "metadata": {
    "id": "frZ7HdIA-UCc",
    "colab_type": "code",
    "colab": {}
   },
   "outputs": [],
   "source": [
    "# EJERCICIO: Crear una lista con los números del 10 al 20 e imprimir los tres últimos"
   ]
  },
  {
   "cell_type": "markdown",
   "metadata": {
    "id": "VMZsiCCa-gcy",
    "colab_type": "text"
   },
   "source": [
    "### Contrucción de una lista 'al vuelo'"
   ]
  },
  {
   "cell_type": "code",
   "execution_count": 0,
   "metadata": {
    "id": "EzhSZri_-jSi",
    "colab_type": "code",
    "colab": {}
   },
   "outputs": [],
   "source": [
    "# Podemos inicializar una lista vacía e ir añadiendo elementos 'al final' con 'append'\n",
    "\n",
    "lista = []\n",
    "\n",
    "lista.append(1)\n",
    "lista.append(2)\n",
    "lista.append(3)\n",
    "\n",
    "print(\"La lista es: \" + str(lista))\n",
    "\n",
    "# También podemos insertar elementos 'en medio' de la lista. El primer argumento de 'insert' es el índice donde vamos a insertar y el segundo\n",
    "# es 'lo que queremos insertar'\n",
    "\n",
    "lista.insert(2, 2.5)\n",
    "\n",
    "print(\"La lista con la inserción es: \" + str(lista))"
   ]
  },
  {
   "cell_type": "markdown",
   "metadata": {
    "id": "Cu_r-t6x_dYZ",
    "colab_type": "text"
   },
   "source": [
    "### Posición de elementos en una lista"
   ]
  },
  {
   "cell_type": "code",
   "execution_count": 0,
   "metadata": {
    "id": "RQz7BdGo_geW",
    "colab_type": "code",
    "colab": {}
   },
   "outputs": [],
   "source": [
    "lista = ['uno', 'dos', 'tres']\n",
    "\n",
    "# lista.index nos devuelve (si existe), la posición o índice de un elemento en la lista\n",
    "\n",
    "print(lista.index('dos'))\n",
    "\n",
    "# Comprobar siempre primero si el elemento existe, con 'in', porque si no existe, nos dará un error\n",
    "\n",
    "if 'tres' in lista:\n",
    "  print(lista.index('tres'))\n",
    "  \n",
    "# Error: \n",
    "print(lista.index('cuatro'))\n",
    "\n",
    "  "
   ]
  },
  {
   "cell_type": "code",
   "execution_count": 0,
   "metadata": {
    "id": "odi2WVoqAMfQ",
    "colab_type": "code",
    "colab": {}
   },
   "outputs": [],
   "source": [
    "# EJERCICIO: Crear una lista con los elementos 'uno', 'dos', 'tres', 'cuatro' y 'cinco'\n",
    "# e insertar la cadena \"cuatro y medio\" en la lista, detrás de 'cuatro', usando 'index' e 'insert' (dos últimos ejemplos)"
   ]
  },
  {
   "cell_type": "markdown",
   "metadata": {
    "id": "69W9ZVRLAqAJ",
    "colab_type": "text"
   },
   "source": [
    "## Control de flujo con el bucle 'for'\n",
    "\n",
    "'for' es una manera de generar 'bucles', es decir, repetir un bloque de código un número determinado de veces. También, con 'for', podemos recorrer los elementos de una lista uno a uno y operar sobre ellos\n",
    "\n",
    "\n"
   ]
  },
  {
   "cell_type": "code",
   "execution_count": 0,
   "metadata": {
    "id": "pmbJkqAFBMxg",
    "colab_type": "code",
    "colab": {}
   },
   "outputs": [],
   "source": [
    "# Para recorrer una lista con 'for':\n",
    "\n",
    "squares = [1,4,9,16,25]\n",
    "\n",
    "# Bucle for: por cada elemento en 'lista', se va a ejecutar el bloque de código\n",
    "# y el elemento estará en la variable 'elemento'\n",
    "\n",
    "for elemento in squares:\n",
    "  print(\"==========\")\n",
    "  print(\"En el bloque de código\")\n",
    "  print(\"El elemento es: \" + str(elemento))"
   ]
  },
  {
   "cell_type": "code",
   "execution_count": 0,
   "metadata": {
    "id": "iCAGMCz2B0nD",
    "colab_type": "code",
    "colab": {}
   },
   "outputs": [],
   "source": [
    ""
   ]
  },
  {
   "cell_type": "markdown",
   "metadata": {
    "id": "j5rzpd_vB2OZ",
    "colab_type": "text"
   },
   "source": [
    "### Generando un bucle  con 'range'\n",
    "\n",
    "¿Qué pasaría si queremos ejecutar un bloque de código un número determinado de veces? Tendríamos que generar una lista con N elementos para ejecutarlo N veces. Para esto podemos contar con la función Python 'range', que nos genera una lista que contiene enteros que se van incrementando. Viendo los siguientes ejemplos se puede entender"
   ]
  },
  {
   "cell_type": "code",
   "execution_count": 0,
   "metadata": {
    "id": "j4qj-48qCNUU",
    "colab_type": "code",
    "colab": {}
   },
   "outputs": [],
   "source": [
    "# Aquí range nos genera una lista con 100 elementos, empezando por el 0 y acabando en el 99\n",
    "nueva_lista = range(100)\n",
    "\n",
    "for numero in nueva_lista:\n",
    "  print(numero)"
   ]
  },
  {
   "cell_type": "code",
   "execution_count": 0,
   "metadata": {
    "id": "I5IzX6jWCsgA",
    "colab_type": "code",
    "colab": {}
   },
   "outputs": [],
   "source": [
    "# Si queremos números entre 10 y 100\n",
    "\n",
    "nueva_lista = range(10,100)\n",
    "\n",
    "for numero in nueva_lista:\n",
    "  print(numero)"
   ]
  },
  {
   "cell_type": "code",
   "execution_count": 0,
   "metadata": {
    "id": "sBoGVkwMC5bO",
    "colab_type": "code",
    "colab": {}
   },
   "outputs": [],
   "source": [
    "# Si queremos números de 10 a 100, con incremento de 10 cada vez\n",
    "\n",
    "# El primer argumento es el número inicial, el segundo es el número final, y el tercero es el incremento\n",
    "# Con un solo argumento se entiende que empieza en 0 y acaba en ese argumento\n",
    "# Con dos, se entiendo, principio y fin, como en el ejemplo anterior.\n",
    "\n",
    "nueva_lista = range(10,100,10)\n",
    "\n",
    "for numero in nueva_lista:\n",
    "  print(numero)"
   ]
  },
  {
   "cell_type": "code",
   "execution_count": 0,
   "metadata": {
    "id": "g87Kr6bYDVvV",
    "colab_type": "code",
    "colab": {}
   },
   "outputs": [],
   "source": [
    "# Finalmente, si queremos contar 'hacia atrás'\n",
    "\n",
    "# Contamos de 100 hacia abajo (hasta 10), de -10 en -10\n",
    "\n",
    "nueva_lista = range(100, 10, -10)\n",
    "\n",
    "for numero in nueva_lista:\n",
    "  print(numero)\n",
    "  \n"
   ]
  },
  {
   "cell_type": "code",
   "execution_count": 0,
   "metadata": {
    "id": "343rkmvMDsxS",
    "colab_type": "code",
    "colab": {}
   },
   "outputs": [],
   "source": [
    "# Función que suma todos los números entre el primer argumento y el segundo argumento\n",
    "\n",
    "def suma_numeros(primero, segundo):\n",
    "  suma = 0\n",
    "  for numero in range(primero, segundo):\n",
    "    suma = suma + numero\n",
    "  return suma\n",
    "\n",
    "\n",
    "# 0 + 1 + 2 + 3 + 4\n",
    "\n",
    "print(suma_numeros(0,5))\n",
    "  "
   ]
  },
  {
   "cell_type": "code",
   "execution_count": 0,
   "metadata": {
    "id": "4eHEeERmERtJ",
    "colab_type": "code",
    "colab": {}
   },
   "outputs": [],
   "source": [
    "# EJERCICIO: Escribir una función que nos devuelva una lista a partir de otra pasada por argumento, en la que se le ha sumando + 1 a todos los elementos\n",
    "# y llamarla con range(0,10) (imprimir la lista devuelta para comprobarlo)\n",
    "# PISTA: Crear la lista nueva desde cero en la función, como en \"Contrucción de una lista 'al vuelo'\" e ir haciendo 'append' en esta nueva lista de los nuevos\n",
    "# elementos modificados"
   ]
  },
  {
   "cell_type": "markdown",
   "metadata": {
    "id": "XTiIMha3FF3a",
    "colab_type": "text"
   },
   "source": [
    "## Control de flujo con el bucle 'while'\n",
    "\n",
    "El bucle while comprueba una condición (de la misma manera que 'if'), y mientras se siga cumpliendo, se ejecutará el bloque de código correspondiente\n"
   ]
  },
  {
   "cell_type": "code",
   "execution_count": 0,
   "metadata": {
    "id": "kvtVuMJRFSse",
    "colab_type": "code",
    "colab": {}
   },
   "outputs": [],
   "source": [
    "# Bucle while para contar de 1 a 9\n",
    "\n",
    "valor = 1\n",
    "\n",
    "while valor < 10:\n",
    "  print(valor)\n",
    "  valor = valor + 1  "
   ]
  },
  {
   "cell_type": "code",
   "execution_count": 0,
   "metadata": {
    "id": "ph6xhnquFttU",
    "colab_type": "code",
    "colab": {}
   },
   "outputs": [],
   "source": [
    "# EJERCICIO: 'Contar' con un bucle 'while' desde 30 hasta 3, en decrementos de 3\n",
    "# i.e: 30,27,24,21,18,15,12,9,6,3\n",
    "\n"
   ]
  }
 ],
 "metadata": {
  "colab": {
   "name": "01_Listas_For_y_While.ipynb",
   "version": "0.3.2",
   "provenance": [],
   "collapsed_sections": []
  },
  "kernelspec": {
   "name": "python3",
   "display_name": "Python 3"
  }
 },
 "nbformat": 4,
 "nbformat_minor": 0
}
