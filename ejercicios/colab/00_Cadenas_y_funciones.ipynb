{
 "cells": [
  {
   "cell_type": "markdown",
   "metadata": {
    "id": "K6u3wFq-b9KU",
    "colab_type": "text"
   },
   "source": [
    "#Python 3: Variables, Cadenas y Funciones"
   ]
  },
  {
   "cell_type": "markdown",
   "metadata": {
    "id": "CrWviOPkctyf",
    "colab_type": "text"
   },
   "source": [
    "##Variables"
   ]
  },
  {
   "cell_type": "markdown",
   "metadata": {
    "id": "MrkT_ZeddJB2",
    "colab_type": "text"
   },
   "source": [
    "###¿Qué es una variable?\n",
    "\n",
    "Una variable es un identificador que elegimos para almacenar un dato. En una variable podemos almacenar diferentes tipos de datos:\n",
    "\n",
    "\n",
    "*   Datos simples: Enteros (45), Flotantes (3.456), Cadenas (\"Esto es una cadena\"), booleanos (True/False)\n",
    "*   Estructuras de datos compuestas: Listas y Diccionarios (en otro notebook)\n",
    "\n"
   ]
  },
  {
   "cell_type": "markdown",
   "metadata": {
    "id": "hiAk1lkrerSD",
    "colab_type": "text"
   },
   "source": [
    "### ¿Cómo se inicializa una variable?\n",
    "\n",
    "La sintaxis para 'inicializar' una variable (asignarle un dato, en este caso una cadena) es la siguiente.\n",
    "\n",
    "```nombre_de_la_variable = \"Contenido de la variable\"```\n",
    "\n",
    "El nombre de la variable lo escoge el programador, teniendo en cuenta que siempre debe empezar por una letra o un '_'  y que puede contener letras, números o '_'.  Las mayúsculas/minúsculas importan, es decir, la variable 'cadena' es diferente de la variable 'CADENA'.\n",
    "\n",
    "Dependiendo del tipo de dato, se usa una sintaxis diferente. En la siguiente caja de código puedes ejecutar un ejemplo con diferentes tipos de variables.\n",
    "\n",
    "Las líneas que empiezan por '#' son comentarios en el código, se usan para facilitar la comprensión. El resto de líneas se 'ejecutan' línea a línea.\n",
    "\n"
   ]
  },
  {
   "cell_type": "code",
   "execution_count": 0,
   "metadata": {
    "id": "IPRAGQkNd3ax",
    "colab_type": "code",
    "colab": {}
   },
   "outputs": [],
   "source": [
    "# En la variable 'mi_cadena' se va a almacenar \"Esto es una cadena\". \n",
    "# Para expresar cadenas en el código se usan las comillas simples o dobles\n",
    "\n",
    "mi_cadena = \"Esto es una cadena\"\n",
    "\n",
    "# En la variable mi_entero se va a almacenar un entero \n",
    "# (un número positivo o negativo sin decimales)\n",
    "# Cuando se manejan números en el código, **no** se usan las comillas\n",
    "\n",
    "mi_entero = -34\n",
    "\n",
    "# En la variable mi_flotante se va a almacenar un 'flotante'\n",
    "# (un número positivo o negativo con decimales)\n",
    "# Nuevamente, no se usan las comillas\n",
    "\n",
    "mi_flotante = 3.455\n",
    "\n",
    "# En la variable mi_booleano se va a almacenar un dato booleano \n",
    "# (https://en.wikipedia.org/wiki/Boolean_data_type), que sólo puede contener 'True' o 'False'.\n",
    "# La asignación va sin comillas, no es una cadena\n",
    "\n",
    "mi_booleano = True\n"
   ]
  },
  {
   "cell_type": "markdown",
   "metadata": {
    "id": "1jbw15eFf9uR",
    "colab_type": "text"
   },
   "source": [
    "###¿Qué puedo hacer con una variable?\n",
    "\n",
    "Una vez inicializada una variable, contiene el dato asignado y se considera de ese tipo. Es decir, una variable que almacena una cadena, sólo puede operar con otras cadenas (una operación entre dos cadenas, sería, por ejemplo, concatenar ambas).\n",
    "\n",
    "La variable se puede alterar con operaciones específicas de ese tipo de dato y también se puede imprimir, para ver en ese punto del código el contenido de una determinada variable. Para imprimir algo, se usa la sintaxis:\n",
    "\n",
    "```print(variable)```\n",
    "\n",
    "Si ejecutas las diferentes cajas de código debajo, verás el resultado de operaciones con cadenas, enteros y flotantes"
   ]
  },
  {
   "cell_type": "code",
   "execution_count": 0,
   "metadata": {
    "id": "fRxae-gLhblC",
    "colab_type": "code",
    "colab": {}
   },
   "outputs": [],
   "source": [
    "mi_cadena = \"Esto es una cadena\"\n",
    "print(mi_cadena)"
   ]
  },
  {
   "cell_type": "code",
   "execution_count": 0,
   "metadata": {
    "id": "M4qNF2xKhiie",
    "colab_type": "code",
    "colab": {}
   },
   "outputs": [],
   "source": [
    "mi_entero = 45\n",
    "print(mi_entero)"
   ]
  },
  {
   "cell_type": "code",
   "execution_count": 0,
   "metadata": {
    "id": "6uNwh0djhwjS",
    "colab_type": "code",
    "colab": {}
   },
   "outputs": [],
   "source": [
    "mi_flotante = 3.33\n",
    "print(mi_flotante)"
   ]
  },
  {
   "cell_type": "code",
   "execution_count": 0,
   "metadata": {
    "id": "9bAExx-CiCH8",
    "colab_type": "code",
    "colab": {}
   },
   "outputs": [],
   "source": [
    "# Operacion entre cadenas: Suma de dos cadenas\n",
    "\n",
    "mi_cadena = \"Esto es una cadena\"\n",
    "otra_cadena = \"Esto es otra cadena\"\n",
    "\n",
    "cadena_final = mi_cadena + otra_cadena\n",
    "\n",
    "print(cadena_final)"
   ]
  },
  {
   "cell_type": "code",
   "execution_count": 0,
   "metadata": {
    "id": "aUgSx8nWibi-",
    "colab_type": "code",
    "colab": {}
   },
   "outputs": [],
   "source": [
    "# También se pueden sumar cadenas 'al vuelo', sin almacenarlas en una variable\n",
    "\n",
    "print (\"Esto es una cadena\" + \" \" + \"Esto es otra cadena\")"
   ]
  },
  {
   "cell_type": "code",
   "execution_count": 0,
   "metadata": {
    "id": "5IqoX0IxiglL",
    "colab_type": "code",
    "colab": {}
   },
   "outputs": [],
   "source": [
    "# O también:\n",
    "\n",
    "mi_cadena = \"Esto es una cadena\"\n",
    "otra_cadena = \"Esto es otra cadena\"\n",
    "\n",
    "cadena_final = mi_cadena + \" \" + otra_cadena\n",
    "\n",
    "print(cadena_final)"
   ]
  },
  {
   "cell_type": "code",
   "execution_count": 0,
   "metadata": {
    "id": "9mfQla_fkKMI",
    "colab_type": "code",
    "colab": {}
   },
   "outputs": [],
   "source": [
    "# Suma de enteros\n",
    "\n",
    "entero_uno = 50\n",
    "entero_dos = 30\n",
    "\n",
    "entero_final = entero_uno + entero_dos\n",
    "\n",
    "print(entero_final)"
   ]
  },
  {
   "cell_type": "code",
   "execution_count": 0,
   "metadata": {
    "id": "wNDZxuXVkYKU",
    "colab_type": "code",
    "colab": {}
   },
   "outputs": [],
   "source": [
    "# Suma de enteros sin almacenar en variable\n",
    "\n",
    "print(50+30)"
   ]
  },
  {
   "cell_type": "code",
   "execution_count": 0,
   "metadata": {
    "id": "AUDj4vAikdhw",
    "colab_type": "code",
    "colab": {}
   },
   "outputs": [],
   "source": [
    "# Incremento de un entero con otro 'al vuelo'\n",
    "\n",
    "entero = 50\n",
    "\n",
    "entero = entero + 30\n",
    "\n",
    "print(entero)"
   ]
  },
  {
   "cell_type": "code",
   "execution_count": 0,
   "metadata": {
    "id": "NxS061-Ak_jD",
    "colab_type": "code",
    "colab": {}
   },
   "outputs": [],
   "source": [
    "# EJERCICIO: Suma dos números 'flotantes', inicializando cada uno en una variable e imprímelos"
   ]
  },
  {
   "cell_type": "markdown",
   "metadata": {
    "id": "9ViAFJ0ec1Qv",
    "colab_type": "text"
   },
   "source": [
    "##Cadenas"
   ]
  },
  {
   "cell_type": "markdown",
   "metadata": {
    "id": "dNUeBnvtksd3",
    "colab_type": "text"
   },
   "source": [
    "### Operaciones con cadenas\n",
    "\n",
    "\n"
   ]
  },
  {
   "cell_type": "code",
   "execution_count": 0,
   "metadata": {
    "id": "nJzSRfSrlRcP",
    "colab_type": "code",
    "colab": {}
   },
   "outputs": [],
   "source": [
    "# Indexación: devuelven caracteres únicos de una cadena. Los caracteres son también\n",
    "# cadenas, pero de longitud '1' (un sólo caracter)\n",
    "\n",
    "cadena = \"Esto es una cadena\"\n",
    "\n",
    "# Imprime el primer carácter de la cadena\n",
    "# (el primer carácter tiene siempre índice '0')\n",
    "\n",
    "print(cadena[0])\n",
    "\n",
    "# Imprime el cuarto carácter de la cadena (su índice es '3')\n",
    "\n",
    "print(cadena[3])\n",
    "\n",
    "# Imprime la longitud de la cadena\n",
    "\n",
    "longitud = len(cadena)\n",
    "\n",
    "print(longitud)\n",
    "\n",
    "# O (len(cadena) devuelve un entero y por lo tanto, se puede imprimir)\n",
    "\n",
    "print(len(cadena))\n",
    "\n",
    "# Para imprimir el último carácter se usa el índice '-1', sin necesidad de saber la longitud de la cadena:\n",
    "\n",
    "print(\"Ultimo carácter: \" + cadena[-1])\n",
    "\n",
    "# Penúltimo carácter\n",
    "\n",
    "print(\"Penúltimo carácter: \" + cadena[-2])\n"
   ]
  },
  {
   "cell_type": "code",
   "execution_count": 0,
   "metadata": {
    "id": "oOvezOCBmoY5",
    "colab_type": "code",
    "colab": {}
   },
   "outputs": [],
   "source": [
    "# EJERCICIO: Imprime, concatenados, los caracteres cuarto y antepenúltimo de la cadena \"Ejercicio con cadenas\""
   ]
  },
  {
   "cell_type": "code",
   "execution_count": 0,
   "metadata": {
    "id": "-gxZbWiqnHO5",
    "colab_type": "code",
    "colab": {}
   },
   "outputs": [],
   "source": [
    "# 'Rodajas' ('slices') de cadenas: Para coger un 'trozo' de la cadena usando índices\n",
    "# El resultado es siempre otra cadena\n",
    "\n",
    "cadena = \"Esto es otra cadena\"\n",
    "\n",
    "# Sintaxis: cadena[índice del primer carácter que se quiere :índice del último carácter que se quiere]\n",
    "\n",
    "# Devuelve desde el primer carácter (índice 0) hasta el tercero (índice 2), *sin incluirlo*\n",
    "# Es decir una subcadena que contiene el primer y segundo carácter, de longitud 2 \n",
    "\n",
    "print(cadena[0:2])"
   ]
  },
  {
   "cell_type": "code",
   "execution_count": 0,
   "metadata": {
    "id": "plMjjewTn80j",
    "colab_type": "code",
    "colab": {}
   },
   "outputs": [],
   "source": [
    "# Devuelve desde el tercer carácter hasta el último\n",
    "# Si no se especifica el segundo índice, se entiende el último y si no se especifica el primer índice, se entiende el primero de la cadena\n",
    "\n",
    "cadena = \"Esto es otra cadena\"\n",
    "\n",
    "print(cadena[2:])\n",
    "\n",
    "# Devuelve desde el primer carácter hasta el último, sin incluirlo\n",
    "\n",
    "print(cadena[0:-1])\n",
    "\n",
    "# Devuelve desde el primer carácter hasta el último, incluyéndolo\n",
    "\n",
    "print(cadena[0:])\n",
    "\n",
    "# Devuelve desde el tercer carácter contando desde el final, hasta el último\n",
    "\n",
    "print(cadena[-3:])"
   ]
  },
  {
   "cell_type": "code",
   "execution_count": 0,
   "metadata": {
    "id": "lVqT9djMo7b-",
    "colab_type": "code",
    "colab": {}
   },
   "outputs": [],
   "source": [
    "# EJERCICIO: Coge los primeros tres caracteres de la cadena 'Primera cadena'\n",
    "# y concaténalos con los tres finales de la cadena 'Segunda cadena' e imprímelos, añadiendo\n",
    "# una sola línea debajo\n",
    "\n",
    "primera = \"Primera cadena\"\n",
    "segunda = \"Segunda cadena\""
   ]
  },
  {
   "cell_type": "markdown",
   "metadata": {
    "id": "nVgmRHp_paTD",
    "colab_type": "text"
   },
   "source": [
    "###Reemplazo en cadenas"
   ]
  },
  {
   "cell_type": "code",
   "execution_count": 0,
   "metadata": {
    "id": "_LKB6dd3pnzj",
    "colab_type": "code",
    "colab": {}
   },
   "outputs": [],
   "source": [
    "# Para buscar una subcadena dentro de otra y reemplazarlo por otra subcadena\n",
    "# Al usar el '.', estamos accediendo a diferentes métodos que se pueden usar\n",
    "# con una cadena. La lista completa, aquí: https://www.digitalocean.com/community/tutorials/an-introduction-to-string-functions-in-python-3\n",
    "\n",
    "cadena_inicial = \"El perro salta con otro perro\"\n",
    "\n",
    "cadena_final = cadena_inicial.replace(\"perro\", \"gato\")\n",
    "\n",
    "print(cadena_final)"
   ]
  },
  {
   "cell_type": "markdown",
   "metadata": {
    "id": "ZaeZtAyfc5_9",
    "colab_type": "text"
   },
   "source": [
    "## El condicional 'if'\n",
    "\n",
    "En algún punto del código tendremos que tomar decisiones en base al contenido de una variable. Esta toma de decisiones se llama 'control de flujo' y hay varias maneras de controlarlo (https://docs.python.org/3/tutorial/controlflow.html). El condicional 'if' es una de ellas:  Se comprueba el contenido de una variable y en base al resultado se ejecuta (o no) un bloque de código."
   ]
  },
  {
   "cell_type": "code",
   "execution_count": 0,
   "metadata": {
    "id": "W7KKMhQKr2or",
    "colab_type": "code",
    "colab": {}
   },
   "outputs": [],
   "source": [
    "# Inicializamos una variable con un entero\n",
    "\n",
    "numero = 5\n",
    "\n",
    "# Comprobamos si la variable es igual a 5. Ojo con el operador doble '==', el simple\n",
    "# '=' se usa para la asignación de variables, el doble para las comprobaciones\n",
    "# lógicas\n",
    "\n",
    "# Primera comprobación. Ojo que el bloque de código que se ejecuta va 'indentado'\n",
    "# con un par de espacios, para identificar el bloque de código que se tiene que\n",
    "# ejecutar si se cumple la condición\n",
    "\n",
    "if numero == 5:\n",
    "  print(\"El número es igual a cinco\")\n",
    "  \n",
    "if numero >= 5:\n",
    "  print(\"El número es mayor o igual que cinco\")\n",
    "  \n",
    "# Con else, podemos controlar la condición contraria\n",
    "\n",
    "if numero < 5:\n",
    "  print(\"El número es menor que cinco\")\n",
    "else:\n",
    "  print(\"El número NO es menor que cinco\")\n",
    "  \n",
    "# En realidad, los comparadores '<', '>', '>=' devuelven un boolean (True/False)\n",
    "# basado en la comparación y es lo que se comprueba para ejecutar \n",
    "# o no la porción de código que toque\n",
    "\n",
    "booleano = True\n",
    "\n",
    "if booleano:\n",
    "  print(\"True\")\n",
    "  \n",
    "booleano = False\n",
    "\n",
    "if booleano: \n",
    "  print(\"True\")\n",
    "else:\n",
    "  print(\"False\")\n",
    "  \n",
    "  \n",
    "  "
   ]
  },
  {
   "cell_type": "code",
   "execution_count": 0,
   "metadata": {
    "id": "gleNc3ZbuBV-",
    "colab_type": "code",
    "colab": {}
   },
   "outputs": [],
   "source": [
    "# El comparador '!=' se usa para comprobar si una variable es distinta a un valor\n",
    "\n",
    "cadena = \"Hola\"\n",
    "\n",
    "if cadena != \"Hola\":\n",
    "  print(\"La cadena es distinta\")\n",
    "else:\n",
    "  print(\"La cadena es igual\")"
   ]
  },
  {
   "cell_type": "code",
   "execution_count": 0,
   "metadata": {
    "id": "cxKOlqy8ufdZ",
    "colab_type": "code",
    "colab": {}
   },
   "outputs": [],
   "source": [
    "# El bloque de código que se ejecuta puede ser de varias líneas\n",
    "\n",
    "numero = 6\n",
    "\n",
    "if numero > 4:\n",
    "  print(\"Se ha cumplido la condición\")\n",
    "  print(\"El número es mayor que 4\")\n",
    "  \n",
    "  \n",
    "numero = 6\n",
    "\n",
    "if numero < 4:\n",
    "  print(\"Se ha cumplido la condición\")\n",
    "  print(\"El número es menor que 4\")  \n"
   ]
  },
  {
   "cell_type": "code",
   "execution_count": 0,
   "metadata": {
    "id": "uFNDMxmCu7Y5",
    "colab_type": "code",
    "colab": {}
   },
   "outputs": [],
   "source": [
    "# EJERCICIO: Concatenar la cadena 'hola' con la cadena 'adiós'\n",
    "# e imprimir el mensaje \"La cadena tiene más de 5 caracteres\" comprobando\n",
    "# que la longitud de la cadena resultante es mayor de 5, con un if\n"
   ]
  },
  {
   "cell_type": "code",
   "execution_count": 0,
   "metadata": {
    "id": "HV_7t1sJvpvw",
    "colab_type": "code",
    "colab": {}
   },
   "outputs": [],
   "source": [
    "# EJERCICIO: Concatenar la cadena 'hola' con la cadena 'adiós'\n",
    "# e imprimir el mensaje \"La cadena tiene menos de 20 caracteres\" comprobando\n",
    "# que la longitud de la cadena resultante es mayor de 20 con un if (en este caso\n",
    "# hay que poner una condición 'else')\n"
   ]
  },
  {
   "cell_type": "markdown",
   "metadata": {
    "id": "BB6Sv--adCOy",
    "colab_type": "text"
   },
   "source": [
    "##Funciones\n",
    "\n",
    "Una función es un pedazo de código que se puede 'llamar'. Las funciones se usan para 'reutilizar' código ya escrito. Por ejemplo, si vamos a utilizar muchas veces la 'suma de dos números', podemos escribir una función que la calcule y nos la devuelva.\n",
    "\n",
    "Las funciones aceptan parámetros (de entrada) y devuelven una valor de 'salida'. A veces hay funciones que no devuelven nada, pero que ejecutan código relevante al llamarlas (por ejemplo, imprimir por pantalla o escribir en un fichero).\n",
    "\n",
    "La sintaxis para definir una función es:\n",
    "\n",
    "def nombre_de_funcion(parametro_uno, parametro_dos):\n",
    "\n",
    "                 ... bloque de código ...\n",
    "                 \n",
    "                 return(valor_de_retorno)\n",
    "                 \n",
    "El bloque de código va indentado (como en el 'if')\n",
    "\n",
    "Para llamar a la función y almacenar su resultado en una variable:\n",
    "\n",
    "resultado = nombre_de_funcion(parametro_uno, parametro_dos)\n",
    "\n",
    "\n",
    "                 "
   ]
  },
  {
   "cell_type": "code",
   "execution_count": 0,
   "metadata": {
    "id": "wYM0v8qHxNhe",
    "colab_type": "code",
    "colab": {}
   },
   "outputs": [],
   "source": [
    "# Funcion que suma dos números y los devuelve\n",
    "\n",
    "def suma_dos_numeros(primero, segundo):\n",
    "  resultado = primero+segundo\n",
    "  return resultado\n",
    "\n",
    "\n",
    "entero_uno = 5\n",
    "entero_dos = 10\n",
    "\n",
    "print(suma_dos_numeros(entero_uno, entero_dos))"
   ]
  },
  {
   "cell_type": "code",
   "execution_count": 0,
   "metadata": {
    "id": "j66jVBRtxhU5",
    "colab_type": "code",
    "colab": {}
   },
   "outputs": [],
   "source": [
    "# EJERCICIO: Escribir una funcion como la anterior que sume dos números,\n",
    "# pero que devuelva la suma, sólo si los números suman más de 10, en caso \n",
    "# contrario, devolver -1"
   ]
  }
 ],
 "metadata": {
  "colab": {
   "name": "00_Cadenas_y_funciones",
   "version": "0.3.2",
   "provenance": [],
   "collapsed_sections": [],
   "toc_visible": true
  },
  "kernelspec": {
   "name": "python3",
   "display_name": "Python 3"
  }
 },
 "nbformat": 4,
 "nbformat_minor": 0
}
