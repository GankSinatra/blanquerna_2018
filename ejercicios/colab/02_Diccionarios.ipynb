{
 "cells": [
  {
   "cell_type": "markdown",
   "metadata": {
    "id": "ialMOAmv3Wa2",
    "colab_type": "text"
   },
   "source": [
    "#Python: Diccionarios"
   ]
  },
  {
   "cell_type": "markdown",
   "metadata": {
    "id": "_yiuho_E3g_x",
    "colab_type": "text"
   },
   "source": [
    "##Diccionarios\n",
    "\n",
    "Los diccionarios almacenan en una estructura de datos pares 'clave'- 'valor'. En el caso de las listas y de las cadenas, accedíamos a un elemento (o carácter en el caso de las cadenas) a través de un índice, que nos indicaba con un entero la posición del elemento en la estructura de datos. En el caso de los diccionario, no se usa un índice, sino una clave, que suele ser una cadena.\n",
    "\n",
    "Así como las cadenas y las listas tienen elementos 'ordenados' (por su índice), no hay un orden predeterminado en un diccionario.\n",
    "\n",
    "En el código de abajo veremos cómo se declara un diccionario y cómo se accede a sus elementos.\n",
    "\n"
   ]
  },
  {
   "cell_type": "code",
   "execution_count": 0,
   "metadata": {
    "id": "iKHmA2Qe7bfl",
    "colab_type": "code",
    "colab": {}
   },
   "outputs": [],
   "source": [
    "# Declaración de un diccionario: Se usan las llaves para declarar la estructura\n",
    "# Dentro: parejas clave valor de la forma 'clave': valor, separadas entre ellas\n",
    "# por \",\"\n",
    "\n",
    "telefonos = {'juan': 933197654, 'ana': 933336754}\n",
    "\n",
    "print(telefonos['juan'])\n",
    "print(telefonos['ana'])\n",
    "\n",
    "# Inserción al vuelo\n",
    "\n",
    "telefonos['olga'] = 677542343\n",
    "\n",
    "print(telefonos['olga'])\n",
    "\n",
    "# Sobreescritura de una clave\n",
    "\n",
    "telefonos['juan'] = 619345737\n",
    "\n",
    "print(telefonos['juan'])\n",
    "\n",
    "# También se puede definir un diccionario vacío e insertar elementos al vuelo\n",
    "\n",
    "apellidos = {}\n",
    "\n",
    "apellidos['juan'] = \"martinez\"\n",
    "\n",
    "print(apellidos['juan'])\n"
   ]
  },
  {
   "cell_type": "markdown",
   "metadata": {
    "id": "lzKOozMFCy8s",
    "colab_type": "text"
   },
   "source": [
    "## Operaciones en Diccionarios\n",
    "\n",
    "Podemos conocer si una clave existe en el diccionario con el operador 'in'. También podemos borrar una clave de un diccionario con la función 'del'"
   ]
  },
  {
   "cell_type": "code",
   "execution_count": 0,
   "metadata": {
    "id": "dpnUxEYcDNPF",
    "colab_type": "code",
    "colab": {}
   },
   "outputs": [],
   "source": [
    "telefonos = {'juan': 933197654, 'ana': 933336754}\n",
    "\n",
    "if 'juan' in telefonos:\n",
    "  print(\"La clave 'juan' existe\")\n",
    "  \n",
    "if 'oriol' not in telefonos:\n",
    "  print(\"La clave 'oriol' no existe\")\n",
    "  \n",
    "del(telefonos['juan'])\n",
    "\n",
    "if 'juan' not in telefonos:\n",
    "  print(\"La clave 'juan' no existe\")\n"
   ]
  },
  {
   "cell_type": "code",
   "execution_count": 0,
   "metadata": {
    "id": "XPrGKdBUD4g1",
    "colab_type": "code",
    "colab": {}
   },
   "outputs": [],
   "source": [
    "# EJERCICIO \n",
    "# Generar un diccionario con claves que sean teléfonos y contenido 'nombres' (el inverso del código anterior)\n",
    "\n",
    "\n",
    "# Borrar un teléfono y comprobar que no existe con 'if not'\n"
   ]
  },
  {
   "cell_type": "markdown",
   "metadata": {
    "id": "Dqcj2qGuEmeW",
    "colab_type": "text"
   },
   "source": [
    "## Recorrido de diccionarios\n",
    "\n",
    "Para recorrer todos los elementos de una lista, usábamos el bucle 'for'. En el caso de los diccionarios haremos lo mismo, con la excepción de que en las listas, recorríamos índices y en los diccionarios recorreremos las claves (o como veremos abajo, los valores también)"
   ]
  },
  {
   "cell_type": "code",
   "execution_count": 0,
   "metadata": {
    "id": "Mrv_z0UFFENA",
    "colab_type": "code",
    "colab": {}
   },
   "outputs": [],
   "source": [
    "telefonos = {'juan': 933197654, 'ana': 933336754, 'oriol': 934566373}\n",
    "\n",
    "# telefonos.keys() nos devuelve una lista con todas las claves del diccionario,\n",
    "# sin un orden específico\n",
    "\n",
    "for nombre in telefonos.keys():\n",
    "  print(\"Nombre: \" + nombre)\n",
    "    \n",
    "# Podemos imprimir el teléfono, accediendo en cada pasada de 'for' al valor a través\n",
    "# de la clave devuelta\n",
    "\n",
    "print(\"---\")\n",
    "\n",
    "for nombre in telefonos.keys():\n",
    "  print(\"Nombre: \" + nombre, \" Teléfono: \", telefonos[nombre])\n",
    "  \n",
    "# Podemos acceder también a los valores, si únicamente nos interesan los teléfonos\n",
    "\n",
    "print(\"---\")\n",
    "\n",
    "for numero in telefonos.values():\n",
    "  print(\"Teléfono: \", numero)\n"
   ]
  },
  {
   "cell_type": "markdown",
   "metadata": {
    "id": "sM6wswHNGp9U",
    "colab_type": "text"
   },
   "source": [
    "## Diccionarios anidados\n",
    "\n",
    "El contenido de un diccionario (el 'valor') puede ser cualquier cosa: una lista, una cadena, un número, etc...\n",
    "\n",
    "Es muy común que el contenido de un diccionario sea a su vez otro diccionario. De esta manera, el valor de un diccionario puede tener 'campos', como las hojas de cálculo.\n",
    "\n"
   ]
  },
  {
   "cell_type": "code",
   "execution_count": 0,
   "metadata": {
    "id": "RcJyfPypHLJQ",
    "colab_type": "code",
    "colab": {}
   },
   "outputs": [],
   "source": [
    "alumnos = {'juan': {'apellido': 'martinez', 'telefono': 933197654}, \n",
    "           'ana': {'apellido': 'miró', 'telefono': 933336754},\n",
    "           'oriol': {'apellido': 'vidal', 'telefono': 934566373}}\n",
    "\n",
    "# Recorrido del diccionario por claves\n",
    "\n",
    "for nombre in alumnos.keys():\n",
    "  print(\"nombre:\", nombre, alumnos[nombre]['apellido'], \" teléfono:\", alumnos[nombre]['telefono'])\n",
    "\n"
   ]
  },
  {
   "cell_type": "code",
   "execution_count": 0,
   "metadata": {
    "id": "k85Eb7BbIpVd",
    "colab_type": "code",
    "colab": {}
   },
   "outputs": [],
   "source": [
    "# EJERCICIO:\n",
    "\n",
    "# Recorrer el diccionario por nombres, añadiendo al valor del diccionario (otro\n",
    "# diccionario) una clave que se llame 'nota', con valor 7.0\n",
    "\n",
    "# Después, recorrerlo para imprimir todos sus campos, junto con la nota, como\n",
    "# en el ejercicio anterior"
   ]
  },
  {
   "cell_type": "markdown",
   "metadata": {
    "id": "Dzi7UINgJGoA",
    "colab_type": "text"
   },
   "source": [
    "## Listas de diccionarios\n",
    "\n",
    "Otro escenario muy común es el de usar una lista, donde cada uno de sus elementos es un diccionario.\n",
    "\n",
    "Por ejemplo cuando se lee una hoja de cálculo en formato 'csv': La lista contiene las filas de la tabla y cada elemento de la fila es un diccionario con las 'columnas' de la tabla."
   ]
  },
  {
   "cell_type": "code",
   "execution_count": 0,
   "metadata": {
    "id": "hpFsLGhAKeD9",
    "colab_type": "code",
    "colab": {}
   },
   "outputs": [],
   "source": [
    "alumnos = [{'nombre': 'juan', 'apellido': 'martinez', 'telefono': 933197654},\n",
    "           {'nombre': 'ana', 'apellido': 'miró', 'telefono': 933336754},\n",
    "           {'nombre': 'oriol', 'apellido': 'vidal', 'telefono': 934566373}]\n",
    "\n",
    "# Recorremos la lista con un 'for'\n",
    "\n",
    "for entrada in alumnos:\n",
    "  print(entrada)\n",
    "  \n",
    "# Ahora recorremos la lista, y después cada entrada por los 'campos' o claves del diccionario\n",
    "\n",
    "print(\"---\")\n",
    "for entrada in alumnos:\n",
    "  for clave in entrada.keys():\n",
    "    print(clave + \":\", entrada[clave])\n",
    "  print(\"---\")\n",
    "  \n",
    "# Variante, ordenado alfabéticamente los campos\n",
    "\n",
    "\n",
    "# Ahora recorremos la lista, y después cada entrada por los 'campos' o claves del diccionario\n",
    "\n",
    "print(\"---\")\n",
    "for entrada in alumnos:\n",
    "  for clave in sorted(entrada.keys()):\n",
    "    print(clave + \":\", entrada[clave])\n",
    "  print(\"---\")"
   ]
  },
  {
   "cell_type": "code",
   "execution_count": 0,
   "metadata": {
    "id": "u49_yLcYLpCn",
    "colab_type": "code",
    "colab": {}
   },
   "outputs": [],
   "source": [
    "# EJERCICIO: Como en el ejercicio de 'Diccionarios anidados'--> Recorrer la lista e insertar para cada alumno la clave 'nota', con un valor de 7.0\n",
    "# Recorrerla después, imprimiendo para cada alumno todos sus campos"
   ]
  }
 ],
 "metadata": {
  "colab": {
   "name": "02_Diccionarios.ipynb",
   "version": "0.3.2",
   "provenance": [],
   "collapsed_sections": [],
   "toc_visible": true
  },
  "kernelspec": {
   "name": "python3",
   "display_name": "Python 3"
  }
 },
 "nbformat": 4,
 "nbformat_minor": 0
}
